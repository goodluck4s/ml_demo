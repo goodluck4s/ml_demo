{
 "cells": [
  {
   "cell_type": "code",
   "execution_count": 4,
   "metadata": {},
   "outputs": [],
   "source": [
    "import fasttext"
   ]
  },
  {
   "cell_type": "code",
   "execution_count": 5,
   "metadata": {},
   "outputs": [],
   "source": [
    "model = fasttext.train_supervised(input=\"cooking.train\")"
   ]
  },
  {
   "cell_type": "code",
   "execution_count": 6,
   "metadata": {},
   "outputs": [],
   "source": [
    "model.save_model(\"model_cooking.bin\")"
   ]
  },
  {
   "cell_type": "code",
   "execution_count": 7,
   "metadata": {},
   "outputs": [
    {
     "data": {
      "text/plain": [
       "(('__label__baking',), array([0.06301223]))"
      ]
     },
     "execution_count": 7,
     "metadata": {},
     "output_type": "execute_result"
    }
   ],
   "source": [
    "model.predict(\"Which baking dish is best to bake a banana bread ?\")"
   ]
  },
  {
   "cell_type": "code",
   "execution_count": 8,
   "metadata": {},
   "outputs": [
    {
     "data": {
      "text/plain": [
       "(3000, 0.14466666666666667, 0.06256306760847628)"
      ]
     },
     "execution_count": 8,
     "metadata": {},
     "output_type": "execute_result"
    }
   ],
   "source": [
    "model.test(\"cooking.valid\")"
   ]
  },
  {
   "cell_type": "code",
   "execution_count": 22,
   "metadata": {},
   "outputs": [
    {
     "data": {
      "text/plain": [
       "(('__label__equipment',\n",
       "  '__label__knives',\n",
       "  '__label__food-safety',\n",
       "  '__label__fire',\n",
       "  '__label__cleaning',\n",
       "  '__label__utensils',\n",
       "  '__label__eggs',\n",
       "  '__label__fruit',\n",
       "  '__label__free-range',\n",
       "  '__label__chicken',\n",
       "  '__label__maintenance',\n",
       "  '__label__frying-pan',\n",
       "  '__label__deep-frying',\n",
       "  '__label__kitchen-safety',\n",
       "  '__label__frying',\n",
       "  '__label__silver',\n",
       "  '__label__teflon',\n",
       "  '__label__cutting-boards',\n",
       "  '__label__carbon-steel',\n",
       "  '__label__meat',\n",
       "  '__label__griddle',\n",
       "  '__label__storage-method',\n",
       "  '__label__omelette',\n",
       "  '__label__chicken-breast',\n",
       "  '__label__bones',\n",
       "  '__label__containers',\n",
       "  '__label__chestnuts',\n",
       "  '__label__baking',\n",
       "  '__label__flax',\n",
       "  '__label__alkalinity',\n",
       "  '__label__grade',\n",
       "  '__label__sandwich',\n",
       "  '__label__mate',\n",
       "  '__label__baby-food',\n",
       "  '__label__cultural-difference',\n",
       "  '__label__cutting',\n",
       "  '__label__sharpening',\n",
       "  '__label__knife-safety',\n",
       "  '__label__reduction',\n",
       "  '__label__garbage-disposal',\n",
       "  '__label__molecular-gastronomy',\n",
       "  '__label__copper-cookware',\n",
       "  '__label__mold',\n",
       "  '__label__alfredo',\n",
       "  '__label__haddock',\n",
       "  '__label__cookware',\n",
       "  '__label__gas',\n",
       "  '__label__hot-sauce',\n",
       "  '__label__offal',\n",
       "  '__label__disposal',\n",
       "  '__label__fruit-leather',\n",
       "  '__label__clothing',\n",
       "  '__label__convection',\n",
       "  '__label__american-cuisine',\n",
       "  '__label__australian-cuisine',\n",
       "  '__label__parsley',\n",
       "  '__label__wood',\n",
       "  '__label__carpaccio',\n",
       "  '__label__crepe',\n",
       "  '__label__indonesian-cuisine',\n",
       "  '__label__pan',\n",
       "  '__label__barbecue',\n",
       "  '__label__pressure-cooker',\n",
       "  '__label__knife-skills',\n",
       "  '__label__egg-whites',\n",
       "  '__label__sugar',\n",
       "  '__label__grapes',\n",
       "  '__label__blowtorch',\n",
       "  '__label__liver',\n",
       "  '__label__pork-belly',\n",
       "  '__label__microwave',\n",
       "  '__label__crumble',\n",
       "  '__label__meringue',\n",
       "  '__label__cookies',\n",
       "  '__label__cream-cheese',\n",
       "  '__label__sous-vide',\n",
       "  '__label__heat',\n",
       "  '__label__bread',\n",
       "  '__label__dashi',\n",
       "  '__label__apple',\n",
       "  '__label__apples',\n",
       "  '__label__food-preservation',\n",
       "  '__label__jerk',\n",
       "  '__label__deep-dish-pizza',\n",
       "  '__label__thermometer',\n",
       "  '__label__restaurant',\n",
       "  '__label__glass',\n",
       "  '__label__cinnamon',\n",
       "  '__label__cut-of-meat',\n",
       "  '__label__cocktails',\n",
       "  '__label__broccoli',\n",
       "  '__label__storage',\n",
       "  '__label__poaching',\n",
       "  '__label__malt',\n",
       "  '__label__canning',\n",
       "  '__label__mushrooms',\n",
       "  '__label__beef',\n",
       "  '__label__temperature',\n",
       "  '__label__passover',\n",
       "  '__label__veal',\n",
       "  '__label__ceramic',\n",
       "  '__label__stove',\n",
       "  '__label__chorizo',\n",
       "  '__label__dehydrating',\n",
       "  '__label__cheese',\n",
       "  '__label__chips',\n",
       "  '__label__flatbread',\n",
       "  '__label__italian-cuisine',\n",
       "  '__label__braising',\n",
       "  '__label__carbonation',\n",
       "  '__label__ice-cream',\n",
       "  '__label__coloring',\n",
       "  '__label__scrambled-eggs',\n",
       "  '__label__fish',\n",
       "  '__label__water',\n",
       "  '__label__pate',\n",
       "  '__label__grilling',\n",
       "  '__label__vegetables',\n",
       "  '__label__shallots',\n",
       "  '__label__flambe',\n",
       "  '__label__propane-grill',\n",
       "  '__label__tuna',\n",
       "  '__label__maple-syrup',\n",
       "  '__label__safety',\n",
       "  '__label__basting',\n",
       "  '__label__beverages',\n",
       "  '__label__poultry',\n",
       "  '__label__soup',\n",
       "  '__label__venison',\n",
       "  '__label__stir-fry',\n",
       "  '__label__vietnamese-cuisine',\n",
       "  '__label__eggplant',\n",
       "  '__label__cranberries',\n",
       "  '__label__cream',\n",
       "  '__label__marshmallow',\n",
       "  '__label__sausages',\n",
       "  '__label__faq',\n",
       "  '__label__skillet',\n",
       "  '__label__alcohol',\n",
       "  '__label__sorbet',\n",
       "  '__label__measuring-scales',\n",
       "  '__label__risotto',\n",
       "  '__label__smoking',\n",
       "  '__label__milling',\n",
       "  '__label__pretzels',\n",
       "  '__label__raw',\n",
       "  '__label__pot-roast',\n",
       "  '__label__paella',\n",
       "  '__label__hummus',\n",
       "  '__label__spanish-cuisine',\n",
       "  '__label__jerky',\n",
       "  '__label__learning',\n",
       "  '__label__bagels',\n",
       "  '__label__plums',\n",
       "  '__label__non-stick',\n",
       "  '__label__comparisons',\n",
       "  '__label__salami',\n",
       "  '__label__meatballs',\n",
       "  '__label__dutch-oven',\n",
       "  '__label__brown-sugar',\n",
       "  '__label__steak',\n",
       "  '__label__liqueur',\n",
       "  '__label__polish-cuisine',\n",
       "  '__label__oven',\n",
       "  '__label__juicing',\n",
       "  '__label__history',\n",
       "  '__label__yolk',\n",
       "  '__label__vitamins',\n",
       "  '__label__margarine',\n",
       "  '__label__fats',\n",
       "  '__label__cake',\n",
       "  '__label__pork',\n",
       "  '__label__vacuum',\n",
       "  '__label__pairing',\n",
       "  '__label__seeds',\n",
       "  '__label__broth',\n",
       "  '__label__sardines',\n",
       "  '__label__potatoes',\n",
       "  '__label__peaches',\n",
       "  '__label__ham',\n",
       "  '__label__truffles',\n",
       "  '__label__mango',\n",
       "  '__label__hollandaise',\n",
       "  '__label__reheating',\n",
       "  '__label__slow-cooking',\n",
       "  '__label__pasta',\n",
       "  '__label__roast-beef',\n",
       "  '__label__food-processing',\n",
       "  '__label__leeks',\n",
       "  '__label__steamed-pudding',\n",
       "  '__label__brussels-sprouts',\n",
       "  '__label__seasoning',\n",
       "  '__label__tenderizing',\n",
       "  '__label__flour-tortilla',\n",
       "  '__label__candy',\n",
       "  '__label__camping',\n",
       "  '__label__brisket',\n",
       "  '__label__cookbook',\n",
       "  '__label__bulk-cooking',\n",
       "  '__label__salmon',\n",
       "  '__label__juice',\n",
       "  '__label__sourdough',\n",
       "  '__label__cajun-cuisine',\n",
       "  '__label__jam',\n",
       "  '__label__foam',\n",
       "  '__label__whipped-cream',\n",
       "  '__label__broiler',\n",
       "  '__label__pot',\n",
       "  '__label__casserole',\n",
       "  '__label__chilling',\n",
       "  '__label__scallops',\n",
       "  '__label__sashimi'),\n",
       " array([5.16630948e-01, 3.65595758e-01, 1.79102216e-02, 8.18398688e-03,\n",
       "        6.96249446e-03, 6.81494083e-03, 5.42156119e-03, 3.68300662e-03,\n",
       "        3.17290239e-03, 3.16572702e-03, 3.16372304e-03, 3.16167646e-03,\n",
       "        3.03862104e-03, 2.85896123e-03, 2.74810055e-03, 2.63514137e-03,\n",
       "        2.52820412e-03, 2.46013678e-03, 2.23111524e-03, 2.14433856e-03,\n",
       "        1.73947529e-03, 1.73713872e-03, 1.65249279e-03, 1.32882677e-03,\n",
       "        1.22877455e-03, 1.08664914e-03, 9.07486130e-04, 8.93890276e-04,\n",
       "        8.21894500e-04, 7.62882002e-04, 7.58477836e-04, 7.21297460e-04,\n",
       "        7.16705399e-04, 7.12642912e-04, 7.08077627e-04, 7.02298013e-04,\n",
       "        6.88067987e-04, 6.29903690e-04, 5.73153258e-04, 5.66812232e-04,\n",
       "        5.48866054e-04, 4.94064763e-04, 4.85688826e-04, 4.61252348e-04,\n",
       "        4.44984267e-04, 4.28324885e-04, 4.25120728e-04, 4.23168647e-04,\n",
       "        3.88024666e-04, 3.47328169e-04, 3.44086671e-04, 3.41839332e-04,\n",
       "        3.05332098e-04, 2.79250817e-04, 2.75448430e-04, 2.60735105e-04,\n",
       "        2.47859949e-04, 2.39431756e-04, 2.38376189e-04, 2.37375076e-04,\n",
       "        2.31100086e-04, 2.20601170e-04, 2.03052958e-04, 1.92209831e-04,\n",
       "        1.91425235e-04, 1.85707773e-04, 1.84314951e-04, 1.82513148e-04,\n",
       "        1.78895643e-04, 1.66470709e-04, 1.64777011e-04, 1.59583113e-04,\n",
       "        1.57172995e-04, 1.56359994e-04, 1.50467924e-04, 1.37725845e-04,\n",
       "        1.36619914e-04, 1.36435425e-04, 1.31486871e-04, 1.29618085e-04,\n",
       "        1.21518184e-04, 1.07866021e-04, 1.01817612e-04, 1.01502323e-04,\n",
       "        9.62815539e-05, 9.33839183e-05, 9.26108187e-05, 9.25003915e-05,\n",
       "        9.11060051e-05, 8.95786507e-05, 8.54180325e-05, 8.51634395e-05,\n",
       "        8.33130616e-05, 8.21961075e-05, 8.02393770e-05, 7.90863633e-05,\n",
       "        7.78812537e-05, 7.78152535e-05, 7.74769287e-05, 7.73195570e-05,\n",
       "        7.72024068e-05, 7.51536063e-05, 7.13705303e-05, 7.13396366e-05,\n",
       "        7.11312750e-05, 7.00181336e-05, 6.70416775e-05, 6.51971422e-05,\n",
       "        6.09830822e-05, 6.03393783e-05, 6.03183798e-05, 5.92607466e-05,\n",
       "        5.77098763e-05, 5.76196871e-05, 5.75497761e-05, 5.73493635e-05,\n",
       "        5.49682445e-05, 5.36144689e-05, 5.08349876e-05, 5.02997937e-05,\n",
       "        4.99883354e-05, 4.93525513e-05, 4.91617393e-05, 4.87453035e-05,\n",
       "        4.78132897e-05, 4.76010464e-05, 4.67626996e-05, 4.65098565e-05,\n",
       "        4.51845663e-05, 4.42387936e-05, 4.27574523e-05, 4.24577411e-05,\n",
       "        4.16794392e-05, 4.07672414e-05, 3.88436929e-05, 3.74191513e-05,\n",
       "        3.71940114e-05, 3.69692061e-05, 3.44712826e-05, 3.42577696e-05,\n",
       "        3.36937956e-05, 3.32179588e-05, 3.24772591e-05, 3.21795596e-05,\n",
       "        3.19541141e-05, 3.12776356e-05, 3.11554577e-05, 3.00573283e-05,\n",
       "        2.85160895e-05, 2.83504633e-05, 2.80890654e-05, 2.76442497e-05,\n",
       "        2.72375546e-05, 2.64733371e-05, 2.59927601e-05, 2.59074532e-05,\n",
       "        2.58880173e-05, 2.57879983e-05, 2.56961102e-05, 2.56141702e-05,\n",
       "        2.52637583e-05, 2.52534246e-05, 2.49549048e-05, 2.41691614e-05,\n",
       "        2.40332301e-05, 2.38376524e-05, 2.26827069e-05, 2.23478328e-05,\n",
       "        2.21056362e-05, 2.19882513e-05, 2.19077501e-05, 2.01960356e-05,\n",
       "        2.01155908e-05, 2.01003077e-05, 1.93566193e-05, 1.90415722e-05,\n",
       "        1.89907387e-05, 1.88609665e-05, 1.83834381e-05, 1.83409029e-05,\n",
       "        1.81793002e-05, 1.70244548e-05, 1.67615690e-05, 1.66677291e-05,\n",
       "        1.66563368e-05, 1.63385666e-05, 1.63137483e-05, 1.60816708e-05,\n",
       "        1.54551690e-05, 1.54384179e-05, 1.53336950e-05, 1.48695835e-05,\n",
       "        1.45098038e-05, 1.41790515e-05, 1.41253213e-05, 1.41151013e-05,\n",
       "        1.40953671e-05, 1.38542009e-05, 1.37449315e-05, 1.35266619e-05,\n",
       "        1.33594367e-05, 1.29066402e-05, 1.28370630e-05, 1.26573414e-05,\n",
       "        1.24959761e-05, 1.21365010e-05, 1.10245792e-05, 1.06538855e-05,\n",
       "        1.05267418e-05, 1.02138592e-05, 1.00824427e-05, 1.00443995e-05]))"
      ]
     },
     "execution_count": 22,
     "metadata": {},
     "output_type": "execute_result"
    }
   ],
   "source": [
    "model.predict(\"Why not put knives in the dishwasher?\", k=-1)"
   ]
  },
  {
   "cell_type": "code",
   "execution_count": null,
   "metadata": {},
   "outputs": [],
   "source": []
  },
  {
   "cell_type": "code",
   "execution_count": 10,
   "metadata": {},
   "outputs": [],
   "source": [
    "model = fasttext.train_supervised(input=\"cooking.train\")"
   ]
  },
  {
   "cell_type": "code",
   "execution_count": 11,
   "metadata": {},
   "outputs": [
    {
     "data": {
      "text/plain": [
       "(3000, 0.172, 0.07438373936860314)"
      ]
     },
     "execution_count": 11,
     "metadata": {},
     "output_type": "execute_result"
    }
   ],
   "source": [
    "model.test(\"cooking.valid\")"
   ]
  },
  {
   "cell_type": "code",
   "execution_count": 12,
   "metadata": {},
   "outputs": [],
   "source": [
    "model = fasttext.train_supervised(input=\"cooking.train\", epoch=25)"
   ]
  },
  {
   "cell_type": "code",
   "execution_count": 13,
   "metadata": {},
   "outputs": [
    {
     "data": {
      "text/plain": [
       "(3000, 0.518, 0.22401614530776992)"
      ]
     },
     "execution_count": 13,
     "metadata": {},
     "output_type": "execute_result"
    }
   ],
   "source": [
    "model.test(\"cooking.valid\")"
   ]
  },
  {
   "cell_type": "code",
   "execution_count": 14,
   "metadata": {},
   "outputs": [],
   "source": [
    "model = fasttext.train_supervised(input=\"cooking.train\", lr=1.0)"
   ]
  },
  {
   "cell_type": "code",
   "execution_count": 15,
   "metadata": {},
   "outputs": [
    {
     "data": {
      "text/plain": [
       "(3000, 0.5716666666666667, 0.2472250252270434)"
      ]
     },
     "execution_count": 15,
     "metadata": {},
     "output_type": "execute_result"
    }
   ],
   "source": [
    "model.test(\"cooking.valid\")"
   ]
  },
  {
   "cell_type": "code",
   "execution_count": 16,
   "metadata": {},
   "outputs": [],
   "source": [
    "model = fasttext.train_supervised(input=\"cooking.train\", lr=1.0, epoch=25)"
   ]
  },
  {
   "cell_type": "code",
   "execution_count": 17,
   "metadata": {},
   "outputs": [
    {
     "data": {
      "text/plain": [
       "(3000, 0.577, 0.24953149776560474)"
      ]
     },
     "execution_count": 17,
     "metadata": {},
     "output_type": "execute_result"
    }
   ],
   "source": [
    "model.test(\"cooking.valid\")"
   ]
  },
  {
   "cell_type": "code",
   "execution_count": 18,
   "metadata": {},
   "outputs": [],
   "source": [
    "model = fasttext.train_supervised(input=\"cooking.train\", lr=1.0, epoch=25, wordNgrams=2)"
   ]
  },
  {
   "cell_type": "code",
   "execution_count": 19,
   "metadata": {},
   "outputs": [
    {
     "data": {
      "text/plain": [
       "(3000, 0.606, 0.262072942194032)"
      ]
     },
     "execution_count": 19,
     "metadata": {},
     "output_type": "execute_result"
    }
   ],
   "source": [
    "model.test(\"cooking.valid\")"
   ]
  },
  {
   "cell_type": "code",
   "execution_count": 20,
   "metadata": {},
   "outputs": [],
   "source": [
    "model = fasttext.train_supervised(input=\"cooking.train\", lr=1.0, epoch=25, wordNgrams=2, bucket=200000, dim=50, loss='hs')"
   ]
  },
  {
   "cell_type": "code",
   "execution_count": 21,
   "metadata": {},
   "outputs": [
    {
     "data": {
      "text/plain": [
       "(3000, 0.5876666666666667, 0.2541444428427274)"
      ]
     },
     "execution_count": 21,
     "metadata": {},
     "output_type": "execute_result"
    }
   ],
   "source": [
    "model.test(\"cooking.valid\")"
   ]
  },
  {
   "cell_type": "code",
   "execution_count": null,
   "metadata": {},
   "outputs": [],
   "source": []
  }
 ],
 "metadata": {
  "kernelspec": {
   "display_name": "Python 3",
   "language": "python",
   "name": "python3"
  },
  "language_info": {
   "codemirror_mode": {
    "name": "ipython",
    "version": 3
   },
   "file_extension": ".py",
   "mimetype": "text/x-python",
   "name": "python",
   "nbconvert_exporter": "python",
   "pygments_lexer": "ipython3",
   "version": "3.7.6"
  }
 },
 "nbformat": 4,
 "nbformat_minor": 4
}
