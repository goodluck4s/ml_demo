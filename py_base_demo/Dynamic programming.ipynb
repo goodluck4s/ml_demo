{
 "cells": [
  {
   "cell_type": "markdown",
   "metadata": {},
   "source": [
    "https://www.cnblogs.com/mukekeheart/p/9660296.html"
   ]
  },
  {
   "cell_type": "code",
   "execution_count": 1,
   "metadata": {},
   "outputs": [],
   "source": [
    "import numpy as np\n",
    "import time"
   ]
  },
  {
   "cell_type": "markdown",
   "metadata": {},
   "source": [
    "# 找一条从第一行到最后一行最短的通路"
   ]
  },
  {
   "cell_type": "code",
   "execution_count": 2,
   "metadata": {},
   "outputs": [
    {
     "data": {
      "text/plain": [
       "array([[7, 0, 0, 0, 0],\n",
       "       [3, 8, 0, 0, 0],\n",
       "       [8, 1, 0, 0, 0],\n",
       "       [2, 7, 4, 4, 0],\n",
       "       [4, 5, 2, 6, 5]])"
      ]
     },
     "execution_count": 2,
     "metadata": {},
     "output_type": "execute_result"
    }
   ],
   "source": [
    "D=[[7,0,0,0,0],[3,8,0,0,0],[8,1,0,0,0],[2,7,4,4,0],[4,5,2,6,5]]\n",
    "# D=[[7,0,0,0,0],[3,8,0,0,0],[8,1,0,0,0]]\n",
    "D=np.array(D)\n",
    "# D=np.random.randint(1,10,[10,10])\n",
    "D"
   ]
  },
  {
   "cell_type": "code",
   "execution_count": 3,
   "metadata": {},
   "outputs": [
    {
     "name": "stdout",
     "output_type": "stream",
     "text": [
      "30\n",
      "totally cost 0.0\n"
     ]
    }
   ],
   "source": [
    "# 递归解法\n",
    "time_start=time.time()\n",
    "def MaxSum(r,j,D):\n",
    "#     print(\">\",D[r,j])\n",
    "    if r == len(D)-1:\n",
    "        return D[r,j]\n",
    "    else:\n",
    "        return np.max([MaxSum(r+1,j,D), MaxSum(r+1,j+1,D)]) + D[r,j]\n",
    "print(MaxSum(0,0,D))\n",
    "time_end=time.time()\n",
    "print('totally cost',time_end-time_start)"
   ]
  },
  {
   "cell_type": "code",
   "execution_count": 13,
   "metadata": {},
   "outputs": [
    {
     "data": {
      "text/plain": [
       "array([[30.,  0.,  0.,  0.,  0.],\n",
       "       [23., 21.,  0.,  0.,  0.],\n",
       "       [20., 13., 10.,  0.,  0.],\n",
       "       [ 7., 12., 10., 10.,  0.],\n",
       "       [ 4.,  5.,  2.,  6.,  5.]])"
      ]
     },
     "execution_count": 13,
     "metadata": {},
     "output_type": "execute_result"
    }
   ],
   "source": [
    "#递推求解\n",
    "D2=np.zeros(D.shape)\n",
    "for i in range(0,len(D)):\n",
    "    i_=len(D)-1-i\n",
    "    for j in range(0,i_+1):\n",
    "        if i_==len(D)-1:\n",
    "            D2[i_,j]=D[i_,j]\n",
    "        else:\n",
    "            D2[i_,j]=np.max([D[i_,j]+D2[i_+1,j],D[i_,j]+D2[i_+1,j+1]])\n",
    "D2\n",
    "        "
   ]
  },
  {
   "cell_type": "code",
   "execution_count": 16,
   "metadata": {},
   "outputs": [
    {
     "data": {
      "text/plain": [
       "array([30., 21., 10., 10.,  5.])"
      ]
     },
     "execution_count": 16,
     "metadata": {},
     "output_type": "execute_result"
    }
   ],
   "source": [
    "#递推求解2\n",
    "D2=np.zeros(len(D))\n",
    "for i in range(0,len(D)):\n",
    "    i_=len(D)-1-i\n",
    "    for j in range(0,i_+1):\n",
    "        if i_==len(D)-1:\n",
    "            D2[j]=D[i_,j]\n",
    "        else:\n",
    "            D2[j]=np.max([D[i_,j]+D2[j],D[i_,j]+D2[j+1]])\n",
    "D2"
   ]
  },
  {
   "cell_type": "code",
   "execution_count": null,
   "metadata": {},
   "outputs": [],
   "source": []
  }
 ],
 "metadata": {
  "kernelspec": {
   "display_name": "Python 3",
   "language": "python",
   "name": "python3"
  },
  "language_info": {
   "codemirror_mode": {
    "name": "ipython",
    "version": 3
   },
   "file_extension": ".py",
   "mimetype": "text/x-python",
   "name": "python",
   "nbconvert_exporter": "python",
   "pygments_lexer": "ipython3",
   "version": "3.6.5"
  }
 },
 "nbformat": 4,
 "nbformat_minor": 2
}
