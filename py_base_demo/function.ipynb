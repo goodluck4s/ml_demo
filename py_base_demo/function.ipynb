{
 "cells": [
  {
   "cell_type": "markdown",
   "metadata": {},
   "source": [
    "# 1. yield"
   ]
  },
  {
   "cell_type": "code",
   "execution_count": 1,
   "metadata": {},
   "outputs": [
    {
     "name": "stdout",
     "output_type": "stream",
     "text": [
      "<class 'generator'>\n"
     ]
    }
   ],
   "source": [
    "#yield 把函数做成生成器\n",
    "def fuc1():\n",
    "    for i in range(5):\n",
    "        yield i\n",
    "\n",
    "print(type(fuc1()))\n",
    "generater1 = fuc1()"
   ]
  },
  {
   "cell_type": "code",
   "execution_count": 3,
   "metadata": {},
   "outputs": [
    {
     "data": {
      "text/plain": [
       "1"
      ]
     },
     "execution_count": 3,
     "metadata": {},
     "output_type": "execute_result"
    }
   ],
   "source": [
    "#取yield出的各个数\n",
    "next(generater1)"
   ]
  },
  {
   "cell_type": "markdown",
   "metadata": {},
   "source": [
    "# 2. 函数中的参数\n",
    "\n",
    "格式   =   func(位置参数, 关键字参数, * , **)"
   ]
  },
  {
   "cell_type": "code",
   "execution_count": 4,
   "metadata": {},
   "outputs": [
    {
     "name": "stdout",
     "output_type": "stream",
     "text": [
      "2 1\n"
     ]
    }
   ],
   "source": [
    "#positional arguments\n",
    "def fuc(a,b):\n",
    "    print(b,a)\n",
    "\n",
    "fuc(1,2)"
   ]
  },
  {
   "cell_type": "code",
   "execution_count": 5,
   "metadata": {},
   "outputs": [
    {
     "name": "stdout",
     "output_type": "stream",
     "text": [
      "1 3\n",
      "1 12\n"
     ]
    }
   ],
   "source": [
    "#keyword arguments   不赋值  输出默认值\n",
    "def fuc2(a,c=12):\n",
    "    print(a,c)\n",
    "\n",
    "fuc2(1,3)\n",
    "fuc2(1)"
   ]
  },
  {
   "cell_type": "code",
   "execution_count": 6,
   "metadata": {},
   "outputs": [
    {
     "name": "stdout",
     "output_type": "stream",
     "text": [
      "3 -3 6\n"
     ]
    }
   ],
   "source": [
    "#按关键字传递位置参数\n",
    "def sub(a, b): \n",
    "    return a - b \n",
    "s1 = sub(a=6, b=3) \n",
    "s2 = sub(b=3, a=0) \n",
    "s3 = sub(9, b=3) \n",
    "print(s1,s2,s3)"
   ]
  },
  {
   "cell_type": "code",
   "execution_count": 7,
   "metadata": {},
   "outputs": [
    {
     "name": "stdout",
     "output_type": "stream",
     "text": [
      "1 1 (9, 9, 9)\n",
      "29\n"
     ]
    },
    {
     "data": {
      "text/plain": [
       "29"
      ]
     },
     "execution_count": 7,
     "metadata": {},
     "output_type": "execute_result"
    }
   ],
   "source": [
    "#位置参数包裹  被包裹的参数将以一个tuple的形式传入函数中\n",
    "def fuc3(a,c=12,*args):\n",
    "    print(a,c,args)\n",
    "    res = a+c+sum(args)\n",
    "    print(res)\n",
    "    return res\n",
    "fuc3(1,1,9,9,9)"
   ]
  },
  {
   "cell_type": "code",
   "execution_count": 8,
   "metadata": {},
   "outputs": [
    {
     "name": "stdout",
     "output_type": "stream",
     "text": [
      "<class 'dict'>\n",
      "1 1 (9, 9, 9) {'s': 'shen', 'z': 'zhao'}\n",
      "<class 'str'>\n",
      "s shen\n",
      "<class 'str'>\n",
      "z zhao\n"
     ]
    }
   ],
   "source": [
    "#关键字参数包裹 被包裹的参数将以一个dict的形式传入函数中\n",
    "def fuc3(a,c=12,*args,**kwargs):\n",
    "    print(type(kwargs))\n",
    "    print(a,c,args,kwargs)\n",
    "    for key,values in kwargs.items():\n",
    "        print(type(key))\n",
    "        print(key,values)\n",
    "    \n",
    "    \n",
    "fuc3(1,1,9,9,9,s='shen',z= 'zhao')\n"
   ]
  },
  {
   "cell_type": "code",
   "execution_count": 9,
   "metadata": {},
   "outputs": [
    {
     "name": "stdout",
     "output_type": "stream",
     "text": [
      "{'a': 1, 'b': 2}\n",
      "<class 'str'>\n",
      "a 1\n",
      "<class 'str'>\n",
      "b 2\n"
     ]
    }
   ],
   "source": [
    "#解包裹  在调用函数的时候可以用*  **把 lis or dict 打散\n",
    "#在定义函数的时候用*  **声明可变长位置参数 or 可变长关键字参数\n",
    "dic1={'a':1,'b':2}\n",
    "def fuc4(**dic1):\n",
    "    print(dic1)\n",
    "    for key,values in dic1.items():\n",
    "        print(type(key))\n",
    "        print(key,values)\n",
    "\n",
    "fuc4(**dic1)"
   ]
  },
  {
   "cell_type": "markdown",
   "metadata": {},
   "source": [
    "# 3. 偏函数\n",
    "可以理解为固定住函数的一部分参数，抠出来单独做一个函数，这个新参数只接收剩下的参数，完成原函数的功能，如下面的例子"
   ]
  },
  {
   "cell_type": "code",
   "execution_count": 10,
   "metadata": {},
   "outputs": [
    {
     "name": "stdout",
     "output_type": "stream",
     "text": [
      "8\n",
      "4\n",
      "0\n",
      "1\n"
     ]
    }
   ],
   "source": [
    "from functools import partial\n",
    "def multi(a,b):\n",
    "    return a*b\n",
    "multi2=partial(multi,2)\n",
    "\n",
    "print(multi2(4))\n",
    "print(multi2(2))\n",
    "\n",
    "def mod(base,param):\n",
    "    return param%base\n",
    "\n",
    "#这里注意一下  mod,2 里面那个2 占的是第一个参数的位置 所以要做mod2函数 需要把 base 和 param的位置搞清楚\n",
    "mod2=partial(mod,2)\n",
    "\n",
    "print(mod2(4))\n",
    "print(mod2(9))"
   ]
  },
  {
   "cell_type": "markdown",
   "metadata": {},
   "source": [
    "# 4. 高阶函数 与 匿名函数 lambda\n",
    "高阶函数接收函数作为参数的函数 比如map\n"
   ]
  },
  {
   "cell_type": "code",
   "execution_count": 11,
   "metadata": {},
   "outputs": [
    {
     "name": "stdout",
     "output_type": "stream",
     "text": [
      "[111, 22]\n"
     ]
    }
   ],
   "source": [
    "#高阶函数1  filter\n",
    "a=filter(lambda x:True if x>10 else False,[1,111,22])\n",
    "print(list(a))"
   ]
  },
  {
   "cell_type": "code",
   "execution_count": 12,
   "metadata": {},
   "outputs": [
    {
     "name": "stdout",
     "output_type": "stream",
     "text": [
      "[1, 12321, 484]\n"
     ]
    }
   ],
   "source": [
    "#高阶函数2  map\n",
    "a=map(lambda x:x**2,[1,111,22])\n",
    "print(list(a))"
   ]
  },
  {
   "cell_type": "code",
   "execution_count": 18,
   "metadata": {},
   "outputs": [
    {
     "data": {
      "text/plain": [
       "555"
      ]
     },
     "execution_count": 18,
     "metadata": {},
     "output_type": "execute_result"
    }
   ],
   "source": [
    "#高阶函数3  reduce\n",
    "from functools import reduce\n",
    "a=reduce(lambda x,y:x if x>y else y,[1,111,22,555,22,1,2,3,5])\n",
    "a"
   ]
  }
 ],
 "metadata": {
  "kernelspec": {
   "display_name": "Python 3",
   "language": "python",
   "name": "python3"
  },
  "language_info": {
   "codemirror_mode": {
    "name": "ipython",
    "version": 3
   },
   "file_extension": ".py",
   "mimetype": "text/x-python",
   "name": "python",
   "nbconvert_exporter": "python",
   "pygments_lexer": "ipython3",
   "version": "3.6.5"
  }
 },
 "nbformat": 4,
 "nbformat_minor": 2
}
