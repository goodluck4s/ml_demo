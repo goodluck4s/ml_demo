{
 "cells": [
  {
   "cell_type": "markdown",
   "metadata": {},
   "source": [
    "# 5. 闭包与装饰器\n",
    "闭包：   \n",
    "   闭包是词法闭包（Lexical Closure）的简称，是引用了自由变量的函数，这个被引用的自由变量将和这个函数一同存在，即使已经离开了创造它的环境也不例外。   \n",
    "   3个条件：有内嵌函数  ；内嵌引用自由变量  ；  外部函数返回内嵌函数\n",
    "   \n",
    "   https://www.cnblogs.com/wxzhao/p/6297551.html"
   ]
  },
  {
   "cell_type": "code",
   "execution_count": 1,
   "metadata": {},
   "outputs": [
    {
     "name": "stdout",
     "output_type": "stream",
     "text": [
      "{'name': 'zhangsan', 'age': 15}\n",
      "{'name': 'shenzhao', 'age': 15}\n",
      "{'name': 'lisi', 'age': 20, 'work': 'pythoner'}\n",
      "{'name': 'shenzhao', 'age': 20, 'work': 'xiwangong'}\n"
     ]
    }
   ],
   "source": [
    "#一个例子\n",
    "def outer(age):\n",
    "    a = {}\n",
    "    def get_info(name=None, work=None, age=age):\n",
    "        if age < 18:\n",
    "            a['name'] = name\n",
    "            a['age'] = age\n",
    "        else:\n",
    "            a['name'] = name\n",
    "            a['age'] = age\n",
    "            a['work'] = work\n",
    "        return a\n",
    "    return get_info\n",
    "\n",
    "if __name__ == \"__main__\":\n",
    "    p1 = outer(15)\n",
    "    p2 = outer(20)\n",
    "\n",
    "    print(p1('zhangsan', None))\n",
    "    print(p1('shenzhao', 'xiwangong'))\n",
    "    print(p2('lisi', 'pythoner'))\n",
    "    print(p2('shenzhao', 'xiwangong'))\n",
    "    \n",
    "    \n",
    "#按照函数的生命周期分析，在执行完p1=outer（15）之后，\n",
    "#返回了一个函数对象赋值给p1，正常情况下局部变量age应该销毁了，\n",
    "#但是为什么再执行p1()的时候还能访问到age呢？\n",
    "\n",
    "#这涉及到一个特殊的定义:自由变量， \n",
    "#自由变量的定义很简单，闭包所引用的外部作用域变量称为自由变量。  age 和  a 都是自由变量\n",
    "\n",
    "#当一个变量变成自由变量之后，其作用域会发生相应的改变，自由变量随闭包存活"
   ]
  },
  {
   "cell_type": "code",
   "execution_count": 2,
   "metadata": {},
   "outputs": [
    {
     "ename": "UnboundLocalError",
     "evalue": "local variable 'count' referenced before assignment",
     "output_type": "error",
     "traceback": [
      "\u001b[1;31m---------------------------------------------------------------------------\u001b[0m",
      "\u001b[1;31mUnboundLocalError\u001b[0m                         Traceback (most recent call last)",
      "\u001b[1;32m<ipython-input-2-c156ae89d928>\u001b[0m in \u001b[0;36m<module>\u001b[1;34m()\u001b[0m\n\u001b[0;32m      7\u001b[0m \u001b[1;33m\u001b[0m\u001b[0m\n\u001b[0;32m      8\u001b[0m \u001b[0ma\u001b[0m \u001b[1;33m=\u001b[0m \u001b[0mcounter\u001b[0m\u001b[1;33m(\u001b[0m\u001b[1;33m)\u001b[0m\u001b[1;33m\u001b[0m\u001b[0m\n\u001b[1;32m----> 9\u001b[1;33m \u001b[0mprint\u001b[0m\u001b[1;33m(\u001b[0m\u001b[1;34m'a:'\u001b[0m\u001b[1;33m,\u001b[0m\u001b[0ma\u001b[0m\u001b[1;33m(\u001b[0m\u001b[1;33m)\u001b[0m\u001b[1;33m)\u001b[0m\u001b[1;33m\u001b[0m\u001b[0m\n\u001b[0m\u001b[0;32m     10\u001b[0m \u001b[1;33m\u001b[0m\u001b[0m\n\u001b[0;32m     11\u001b[0m \u001b[1;31m#只能改变可变对象 不能改变不可变对象   把count换成list  这个就能执行\u001b[0m\u001b[1;33m\u001b[0m\u001b[1;33m\u001b[0m\u001b[0m\n",
      "\u001b[1;32m<ipython-input-2-c156ae89d928>\u001b[0m in \u001b[0;36mincr\u001b[1;34m()\u001b[0m\n\u001b[0;32m      2\u001b[0m     \u001b[0mcount\u001b[0m \u001b[1;33m=\u001b[0m \u001b[0mstart\u001b[0m\u001b[1;33m\u001b[0m\u001b[0m\n\u001b[0;32m      3\u001b[0m     \u001b[1;32mdef\u001b[0m \u001b[0mincr\u001b[0m\u001b[1;33m(\u001b[0m\u001b[1;33m)\u001b[0m\u001b[1;33m:\u001b[0m\u001b[1;33m\u001b[0m\u001b[0m\n\u001b[1;32m----> 4\u001b[1;33m         \u001b[0mcount\u001b[0m \u001b[1;33m+=\u001b[0m \u001b[1;36m1\u001b[0m\u001b[1;33m\u001b[0m\u001b[0m\n\u001b[0m\u001b[0;32m      5\u001b[0m         \u001b[1;32mreturn\u001b[0m \u001b[0mcount\u001b[0m\u001b[1;33m\u001b[0m\u001b[0m\n\u001b[0;32m      6\u001b[0m     \u001b[1;32mreturn\u001b[0m \u001b[0mincr\u001b[0m\u001b[1;33m\u001b[0m\u001b[0m\n",
      "\u001b[1;31mUnboundLocalError\u001b[0m: local variable 'count' referenced before assignment"
     ]
    }
   ],
   "source": [
    "def counter(start=0):\n",
    "    count = start\n",
    "    def incr():\n",
    "        count += 1\n",
    "        return count\n",
    "    return incr\n",
    "\n",
    "a = counter()\n",
    "print('a:',a())\n",
    "\n",
    "#只能改变可变对象 不能改变不可变对象   把count换成list  这个就能执行"
   ]
  },
  {
   "cell_type": "code",
   "execution_count": 4,
   "metadata": {},
   "outputs": [
    {
     "name": "stdout",
     "output_type": "stream",
     "text": [
      "[100]\n",
      "[100, 100]\n",
      "[100]\n"
     ]
    }
   ],
   "source": [
    "def foo():\n",
    "    a = []\n",
    "    def bar():\n",
    "        a.append(100)\n",
    "        return a\n",
    "    return bar\n",
    "\n",
    "if __name__ == \"__main__\":\n",
    "    b = foo()\n",
    "    c = foo()\n",
    "\n",
    "    print(b())\n",
    "    print(b())\n",
    "    print(c())\n",
    "    \n",
    "#b = foo()跟c = foo()返回的是两个不同的对象，也就有两个自由变量， 分别是b 的a[]  和  c的 a[]\n",
    "\n",
    "#自由变量的生命周期等同于闭包的生命周期，也就是说在第二次执行print b()的时候，自由变量是被第一次执行print b()操作之后的。。。\n",
    "#就是b的第二个append100也加入到b的那个自由变量a[]里了  先加100  再加入100"
   ]
  },
  {
   "cell_type": "markdown",
   "metadata": {},
   "source": [
    "装饰器:   \n",
    "python装饰器就是用于拓展原来函数功能的一种函数，这个函数的特殊之处在于它的返回值也是一个函数，使用python装饰器的好处就是在不用更改原函数的代码前提下给函数增加新的功能。\n",
    "\n",
    "装饰器就是一种的闭包的应用，只不过其传递的是函数：\n",
    "\n",
    "\n",
    "https://blog.csdn.net/xiangxianghehe/article/details/77170585"
   ]
  },
  {
   "cell_type": "code",
   "execution_count": 1,
   "metadata": {},
   "outputs": [
    {
     "name": "stdout",
     "output_type": "stream",
     "text": [
      "hello\n",
      "world\n",
      "time is 1000 ms\n"
     ]
    }
   ],
   "source": [
    "#普通装饰器\n",
    "import time\n",
    "\n",
    "def deco(func):\n",
    "    def wrapper():\n",
    "        startTime = time.time()\n",
    "        func()\n",
    "        endTime = time.time()\n",
    "        msecs = (endTime - startTime)*1000\n",
    "        print(\"time is %d ms\" %msecs)\n",
    "    return wrapper\n",
    "\n",
    "\n",
    "@deco\n",
    "def func2():\n",
    "    print(\"hello\")\n",
    "    time.sleep(1)\n",
    "    print(\"world\")\n",
    "\n",
    "if __name__ == '__main__':\n",
    "    f = func2 #这里f被赋值为func，执行f()就是执行func()\n",
    "    func2()"
   ]
  },
  {
   "cell_type": "code",
   "execution_count": 6,
   "metadata": {},
   "outputs": [
    {
     "name": "stdout",
     "output_type": "stream",
     "text": [
      "hello，here is a func for add :\n",
      "result is 7\n",
      "time is 1009 ms\n"
     ]
    }
   ],
   "source": [
    "#带有参数的装饰器\n",
    "import time\n",
    "\n",
    "def deco(func):\n",
    "    def wrapper(a,b):\n",
    "        startTime = time.time()\n",
    "        func(a,b)\n",
    "        endTime = time.time()\n",
    "        msecs = (endTime - startTime)*1000\n",
    "        print(\"time is %d ms\" %msecs)\n",
    "    return wrapper\n",
    "\n",
    "\n",
    "@deco  # func(a,b)=deco(func(a,b))\n",
    "def func(a,b):\n",
    "    print(\"hello，here is a func for add :\")\n",
    "    time.sleep(1)\n",
    "    print(\"result is %d\" %(a+b))\n",
    "\n",
    "if __name__ == '__main__':\n",
    "    f = func\n",
    "    func(3,4)\n",
    "    #func()"
   ]
  },
  {
   "cell_type": "code",
   "execution_count": 7,
   "metadata": {},
   "outputs": [
    {
     "name": "stdout",
     "output_type": "stream",
     "text": [
      "hello，here is a func for add :\n",
      "result is 12\n",
      "time is 1009 ms\n",
      "hello，here is a func for add :\n",
      "result is 7\n",
      "time is 1009 ms\n"
     ]
    }
   ],
   "source": [
    "#带有不定参的装饰器\n",
    "import time\n",
    "\n",
    "def deco(func):\n",
    "    def wrapper(*args, **kwargs):\n",
    "        startTime = time.time()\n",
    "        func(*args, **kwargs)\n",
    "        endTime = time.time()\n",
    "        msecs = (endTime - startTime)*1000\n",
    "        print(\"time is %d ms\" %msecs)\n",
    "    return wrapper\n",
    "\n",
    "\n",
    "@deco\n",
    "def func(a,b):\n",
    "    print(\"hello，here is a func for add :\")\n",
    "    time.sleep(1)\n",
    "    print(\"result is %d\" %(a+b))\n",
    "\n",
    "@deco\n",
    "def func2(a,b,c):\n",
    "    print(\"hello，here is a func for add :\")\n",
    "    time.sleep(1)\n",
    "    print(\"result is %d\" %(a+b+c))\n",
    "\n",
    "\n",
    "if __name__ == '__main__':\n",
    "    f = func\n",
    "    func2(3,4,5)\n",
    "    f(3,4)\n",
    "    #func()"
   ]
  },
  {
   "cell_type": "code",
   "execution_count": 8,
   "metadata": {},
   "outputs": [
    {
     "name": "stdout",
     "output_type": "stream",
     "text": [
      "this is deco01\n",
      "this is deco02\n",
      "hello，here is a func for add :\n",
      "result is 7\n",
      "deco02 end here\n",
      "time is 1009 ms\n",
      "deco01 end here\n"
     ]
    }
   ],
   "source": [
    "#多个装饰器\n",
    "import time\n",
    "\n",
    "def deco01(func):\n",
    "    def wrapper(*args, **kwargs):\n",
    "        print(\"this is deco01\")\n",
    "        startTime = time.time()\n",
    "        func(*args, **kwargs)\n",
    "        endTime = time.time()\n",
    "        msecs = (endTime - startTime)*1000\n",
    "        print(\"time is %d ms\" %msecs)\n",
    "        print(\"deco01 end here\")\n",
    "    return wrapper\n",
    "\n",
    "def deco02(func):\n",
    "    def wrapper(*args, **kwargs):\n",
    "        print(\"this is deco02\")\n",
    "        func(*args, **kwargs)\n",
    "\n",
    "        print(\"deco02 end here\")\n",
    "    return wrapper\n",
    "\n",
    "@deco01    #func=deco01(deco02(func（a,b）))       <--------step2\n",
    "@deco02   #func=deco02(func（a,b）)              <--------step1\n",
    "def func(a,b):\n",
    "    print(\"hello，here is a func for add :\")\n",
    "    time.sleep(1)\n",
    "    print(\"result is %d\" %(a+b))\n",
    "\n",
    "\n",
    "\n",
    "if __name__ == '__main__':\n",
    "    f = func\n",
    "    f(3,4)\n",
    "    #func()"
   ]
  },
  {
   "cell_type": "markdown",
   "metadata": {},
   "source": [
    "## 6  递归的妙用  重启运行失败的函数"
   ]
  },
  {
   "cell_type": "code",
   "execution_count": 26,
   "metadata": {},
   "outputs": [
    {
     "name": "stdout",
     "output_type": "stream",
     "text": [
      "compute_number\n",
      "could not convert string to float: 'a'\n",
      "compute_number\n",
      "could not convert string to float: 'a'\n",
      "compute_number\n",
      "could not convert string to float: 'a'\n",
      "final\n",
      "final\n",
      "final\n"
     ]
    }
   ],
   "source": [
    "import time\n",
    "\n",
    "count = 0\n",
    "\n",
    "def compute_number():\n",
    "    print('compute_number')\n",
    "    lis=[1,2,'a']\n",
    "    lis=[float(i) for i in lis]\n",
    "\n",
    "def main():  \n",
    "   \n",
    "\n",
    "    global count\n",
    "\n",
    "    if count < 3:\n",
    "        try:\n",
    "            count += 1\n",
    "            compute_number()\n",
    "        except Exception as e:\n",
    "            print(e)\n",
    "            main()\n",
    "        finally:\n",
    "            print('final')\n",
    "\n",
    "if __name__ == \"__main__\":  \n",
    "    main()"
   ]
  },
  {
   "cell_type": "code",
   "execution_count": null,
   "metadata": {},
   "outputs": [],
   "source": []
  }
 ],
 "metadata": {
  "kernelspec": {
   "display_name": "Python 3",
   "language": "python",
   "name": "python3"
  },
  "language_info": {
   "codemirror_mode": {
    "name": "ipython",
    "version": 3
   },
   "file_extension": ".py",
   "mimetype": "text/x-python",
   "name": "python",
   "nbconvert_exporter": "python",
   "pygments_lexer": "ipython3",
   "version": "3.6.5"
  }
 },
 "nbformat": 4,
 "nbformat_minor": 2
}
