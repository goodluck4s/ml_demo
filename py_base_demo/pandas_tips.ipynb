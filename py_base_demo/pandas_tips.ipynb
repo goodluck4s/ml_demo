{
 "cells": [
  {
   "cell_type": "code",
   "execution_count": null,
   "metadata": {},
   "outputs": [],
   "source": [
    "import pandas as pd\n",
    "import numpy as np"
   ]
  },
  {
   "cell_type": "code",
   "execution_count": 21,
   "metadata": {},
   "outputs": [
    {
     "data": {
      "text/html": [
       "<div>\n",
       "<style scoped>\n",
       "    .dataframe tbody tr th:only-of-type {\n",
       "        vertical-align: middle;\n",
       "    }\n",
       "\n",
       "    .dataframe tbody tr th {\n",
       "        vertical-align: top;\n",
       "    }\n",
       "\n",
       "    .dataframe thead th {\n",
       "        text-align: right;\n",
       "    }\n",
       "</style>\n",
       "<table border=\"1\" class=\"dataframe\">\n",
       "  <thead>\n",
       "    <tr style=\"text-align: right;\">\n",
       "      <th></th>\n",
       "      <th>state</th>\n",
       "      <th>pop</th>\n",
       "    </tr>\n",
       "  </thead>\n",
       "  <tbody>\n",
       "    <tr>\n",
       "      <th>0</th>\n",
       "      <td>1</td>\n",
       "      <td>a</td>\n",
       "    </tr>\n",
       "    <tr>\n",
       "      <th>1</th>\n",
       "      <td>1</td>\n",
       "      <td>b</td>\n",
       "    </tr>\n",
       "    <tr>\n",
       "      <th>2</th>\n",
       "      <td>2</td>\n",
       "      <td>c</td>\n",
       "    </tr>\n",
       "    <tr>\n",
       "      <th>3</th>\n",
       "      <td>2</td>\n",
       "      <td>d</td>\n",
       "    </tr>\n",
       "    <tr>\n",
       "      <th>4</th>\n",
       "      <td>1</td>\n",
       "      <td>b</td>\n",
       "    </tr>\n",
       "    <tr>\n",
       "      <th>5</th>\n",
       "      <td>2</td>\n",
       "      <td>c</td>\n",
       "    </tr>\n",
       "    <tr>\n",
       "      <th>6</th>\n",
       "      <td>5</td>\n",
       "      <td>d</td>\n",
       "    </tr>\n",
       "  </tbody>\n",
       "</table>\n",
       "</div>"
      ],
      "text/plain": [
       "   state pop\n",
       "0      1   a\n",
       "1      1   b\n",
       "2      2   c\n",
       "3      2   d\n",
       "4      1   b\n",
       "5      2   c\n",
       "6      5   d"
      ]
     },
     "execution_count": 21,
     "metadata": {},
     "output_type": "execute_result"
    }
   ],
   "source": [
    "data={'state':[1,1,2,2,1,2,5],'pop':['a','b','c','d','b','c','d']}\n",
    "frame=pd.DataFrame(data) \n",
    "frame"
   ]
  },
  {
   "cell_type": "markdown",
   "metadata": {},
   "source": [
    "##  1 去重  返回数据"
   ]
  },
  {
   "cell_type": "code",
   "execution_count": 22,
   "metadata": {},
   "outputs": [
    {
     "data": {
      "text/html": [
       "<div>\n",
       "<style scoped>\n",
       "    .dataframe tbody tr th:only-of-type {\n",
       "        vertical-align: middle;\n",
       "    }\n",
       "\n",
       "    .dataframe tbody tr th {\n",
       "        vertical-align: top;\n",
       "    }\n",
       "\n",
       "    .dataframe thead th {\n",
       "        text-align: right;\n",
       "    }\n",
       "</style>\n",
       "<table border=\"1\" class=\"dataframe\">\n",
       "  <thead>\n",
       "    <tr style=\"text-align: right;\">\n",
       "      <th></th>\n",
       "      <th>state</th>\n",
       "      <th>pop</th>\n",
       "    </tr>\n",
       "  </thead>\n",
       "  <tbody>\n",
       "    <tr>\n",
       "      <th>0</th>\n",
       "      <td>1</td>\n",
       "      <td>a</td>\n",
       "    </tr>\n",
       "    <tr>\n",
       "      <th>1</th>\n",
       "      <td>1</td>\n",
       "      <td>b</td>\n",
       "    </tr>\n",
       "    <tr>\n",
       "      <th>2</th>\n",
       "      <td>2</td>\n",
       "      <td>c</td>\n",
       "    </tr>\n",
       "    <tr>\n",
       "      <th>3</th>\n",
       "      <td>2</td>\n",
       "      <td>d</td>\n",
       "    </tr>\n",
       "  </tbody>\n",
       "</table>\n",
       "</div>"
      ],
      "text/plain": [
       "   state pop\n",
       "0      1   a\n",
       "1      1   b\n",
       "2      2   c\n",
       "3      2   d"
      ]
     },
     "execution_count": 22,
     "metadata": {},
     "output_type": "execute_result"
    }
   ],
   "source": [
    "a=frame.drop_duplicates(subset=['pop'],keep='first')\n",
    "a"
   ]
  },
  {
   "cell_type": "code",
   "execution_count": 23,
   "metadata": {},
   "outputs": [
    {
     "data": {
      "text/html": [
       "<div>\n",
       "<style scoped>\n",
       "    .dataframe tbody tr th:only-of-type {\n",
       "        vertical-align: middle;\n",
       "    }\n",
       "\n",
       "    .dataframe tbody tr th {\n",
       "        vertical-align: top;\n",
       "    }\n",
       "\n",
       "    .dataframe thead th {\n",
       "        text-align: right;\n",
       "    }\n",
       "</style>\n",
       "<table border=\"1\" class=\"dataframe\">\n",
       "  <thead>\n",
       "    <tr style=\"text-align: right;\">\n",
       "      <th></th>\n",
       "      <th>state</th>\n",
       "      <th>pop</th>\n",
       "    </tr>\n",
       "  </thead>\n",
       "  <tbody>\n",
       "    <tr>\n",
       "      <th>0</th>\n",
       "      <td>1</td>\n",
       "      <td>a</td>\n",
       "    </tr>\n",
       "    <tr>\n",
       "      <th>1</th>\n",
       "      <td>1</td>\n",
       "      <td>b</td>\n",
       "    </tr>\n",
       "    <tr>\n",
       "      <th>2</th>\n",
       "      <td>2</td>\n",
       "      <td>c</td>\n",
       "    </tr>\n",
       "    <tr>\n",
       "      <th>3</th>\n",
       "      <td>2</td>\n",
       "      <td>d</td>\n",
       "    </tr>\n",
       "    <tr>\n",
       "      <th>6</th>\n",
       "      <td>5</td>\n",
       "      <td>d</td>\n",
       "    </tr>\n",
       "  </tbody>\n",
       "</table>\n",
       "</div>"
      ],
      "text/plain": [
       "   state pop\n",
       "0      1   a\n",
       "1      1   b\n",
       "2      2   c\n",
       "3      2   d\n",
       "6      5   d"
      ]
     },
     "execution_count": 23,
     "metadata": {},
     "output_type": "execute_result"
    }
   ],
   "source": [
    "a=frame.drop_duplicates(subset=['pop','state'],keep='first')\n",
    "a"
   ]
  },
  {
   "cell_type": "markdown",
   "metadata": {},
   "source": [
    "## 2 遍历行"
   ]
  },
  {
   "cell_type": "code",
   "execution_count": 27,
   "metadata": {},
   "outputs": [
    {
     "name": "stdout",
     "output_type": "stream",
     "text": [
      "(0, state    1\n",
      "pop      a\n",
      "Name: 0, dtype: object) <class 'tuple'> <class 'int'> <class 'pandas.core.series.Series'>\n",
      "(1, state    1\n",
      "pop      b\n",
      "Name: 1, dtype: object) <class 'tuple'> <class 'int'> <class 'pandas.core.series.Series'>\n",
      "(2, state    2\n",
      "pop      c\n",
      "Name: 2, dtype: object) <class 'tuple'> <class 'int'> <class 'pandas.core.series.Series'>\n",
      "(3, state    2\n",
      "pop      d\n",
      "Name: 3, dtype: object) <class 'tuple'> <class 'int'> <class 'pandas.core.series.Series'>\n",
      "(4, state    1\n",
      "pop      b\n",
      "Name: 4, dtype: object) <class 'tuple'> <class 'int'> <class 'pandas.core.series.Series'>\n",
      "(5, state    2\n",
      "pop      c\n",
      "Name: 5, dtype: object) <class 'tuple'> <class 'int'> <class 'pandas.core.series.Series'>\n",
      "(6, state    5\n",
      "pop      d\n",
      "Name: 6, dtype: object) <class 'tuple'> <class 'int'> <class 'pandas.core.series.Series'>\n",
      "0 state    1\n",
      "pop      a\n",
      "Name: 0, dtype: object <class 'int'> <class 'pandas.core.series.Series'>\n",
      "1 state    1\n",
      "pop      b\n",
      "Name: 1, dtype: object <class 'int'> <class 'pandas.core.series.Series'>\n",
      "2 state    2\n",
      "pop      c\n",
      "Name: 2, dtype: object <class 'int'> <class 'pandas.core.series.Series'>\n",
      "3 state    2\n",
      "pop      d\n",
      "Name: 3, dtype: object <class 'int'> <class 'pandas.core.series.Series'>\n",
      "4 state    1\n",
      "pop      b\n",
      "Name: 4, dtype: object <class 'int'> <class 'pandas.core.series.Series'>\n",
      "5 state    2\n",
      "pop      c\n",
      "Name: 5, dtype: object <class 'int'> <class 'pandas.core.series.Series'>\n",
      "6 state    5\n",
      "pop      d\n",
      "Name: 6, dtype: object <class 'int'> <class 'pandas.core.series.Series'>\n"
     ]
    }
   ],
   "source": [
    "for row in frame.iterrows():  #用一个变量遍历 返回的是  tuple(index->int,row->series)  \n",
    "    print(row,type(row),type(row[0]),type(row[1]))\n",
    "for index,row in frame.iterrows():  #用两个变量遍历 返回的是 index->int,row->series\n",
    "    print(index,row,type(index),type(row))"
   ]
  },
  {
   "cell_type": "code",
   "execution_count": null,
   "metadata": {},
   "outputs": [],
   "source": []
  }
 ],
 "metadata": {
  "kernelspec": {
   "display_name": "Python 3",
   "language": "python",
   "name": "python3"
  },
  "language_info": {
   "codemirror_mode": {
    "name": "ipython",
    "version": 3
   },
   "file_extension": ".py",
   "mimetype": "text/x-python",
   "name": "python",
   "nbconvert_exporter": "python",
   "pygments_lexer": "ipython3",
   "version": "3.6.5"
  }
 },
 "nbformat": 4,
 "nbformat_minor": 2
}
