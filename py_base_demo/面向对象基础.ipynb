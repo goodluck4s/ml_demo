{
 "cells": [
  {
   "cell_type": "markdown",
   "metadata": {},
   "source": [
    "# py面向对象"
   ]
  },
  {
   "cell_type": "markdown",
   "metadata": {},
   "source": [
    "## 1定义类 实例化对象"
   ]
  },
  {
   "cell_type": "code",
   "execution_count": 2,
   "metadata": {},
   "outputs": [
    {
     "name": "stdout",
     "output_type": "stream",
     "text": [
      "this is my class\n"
     ]
    }
   ],
   "source": [
    "class myclass:      # 用关键字class进行类的定义  即 “class 类名：”\n",
    "    def __init__(self):\n",
    "        # 类中定义的函数叫做 “方法”  __init__ 方法是构造方法 根据类创建对象时自动执行\n",
    "        # self为实例化的对象本身  即即将被实例化的对象obj\n",
    "        print(\"this is my class\")\n",
    "\n",
    "obj = myclass()  # 实例化类 创建对象 会自动执行类中的 __init__ 运行结果：this is my class"
   ]
  },
  {
   "cell_type": "code",
   "execution_count": 3,
   "metadata": {},
   "outputs": [
    {
     "name": "stdout",
     "output_type": "stream",
     "text": [
      "IKTP\n",
      "22\n",
      "hahaha\n",
      "23\n"
     ]
    }
   ],
   "source": [
    "class myclass:\n",
    "    def __init__(self, name1, age1):\n",
    "        self.name = name1\n",
    "        self.age = age1\n",
    "# 因为会自动执行类中的 __init__方法，且该方法中有参数，所以实例化对象时需要传递参数\n",
    "# self是一个形式参数, 当执行下句代码时，实例化对象obj1,那么self就等于obj1这个对象\n",
    "obj1 = myclass(\"IKTP\", 22)\n",
    "# 当执行下句代码时，实例化对象obj2,那么self就等于obj2\n",
    "# 且这两个对象同都拥有两个属性：name,age\n",
    "obj2 = myclass(\"hahaha\", 23)\n",
    "# 当需要调用对象的属性时，即name和age属性，可以直接用对象名字后打点调用需要的属性，例如：\n",
    "print(obj1.name)  # 执行结果：IKTP\n",
    "print(obj1.age)  # 执行结果：22\n",
    "print(obj2.name)  # 执行结果：hahaha\n",
    "print(obj2.age)  # 执行结果：23"
   ]
  },
  {
   "cell_type": "markdown",
   "metadata": {},
   "source": [
    "## 2方法"
   ]
  },
  {
   "cell_type": "code",
   "execution_count": 6,
   "metadata": {},
   "outputs": [
    {
     "name": "stdout",
     "output_type": "stream",
     "text": [
      "this is def speak.IKTP 说：我今年22岁。\n",
      "this is classmethod\n",
      "this is public_var\n",
      "this is staticmethod.liu 说：我今年23岁。\n",
      "this is classmethod\n",
      "this is public_var\n",
      "this is staticmethod.abc 说：我今年12岁。\n"
     ]
    }
   ],
   "source": [
    "class myclass:\n",
    "    public_var = \"this is public_var\"\n",
    "\n",
    "    def __init__(self, name1, age1):\n",
    "        self.name = name1\n",
    "        self.age = age1\n",
    "\n",
    "    #  在类里面定义的函数，统称为方法，方法参数自定义，可在方法中实现相关的操作\n",
    "    #  创建实例方法时，参数必须包括self，即必须有实例化对象才能引用该方法，引用时不需要传递self实参\n",
    "    def speak(self):\n",
    "        print(\"this is def speak.%s 说：我今年%d岁。\" % (self.name, self.age))\n",
    "\n",
    "    #  我们要写一个只在类中运行而不在实例中运行的方法. 如果我们想让方法不在实例中运行\n",
    "    #  比如我们需要类中的基础字段public_var,根本不需要实例化对象就可以拿到该字段\n",
    "    #  这时就需要装饰器@classmethod来创建类方法，至于classmethod的使用场合，会在下篇文章介绍\n",
    "    #  创建类方法时，参数必须包括cls，即必须用类来引用该方法，引用时不需要传递cls实参\n",
    "    @classmethod\n",
    "    def speak2(cls):\n",
    "        print(\"this is classmethod\")\n",
    "        return cls.public_var\n",
    "\n",
    "    #  经常有一些跟类有关系的功能但在运行时又不需要实例和类参与的情况下需要用到静态方法\n",
    "    #  写在类里的方法,必须用类来调用(极少数情况下使用,一般都在全局里直接写函数了)\n",
    "    @staticmethod\n",
    "    def speak3(name2, age2):\n",
    "        print(\"this is staticmethod.%s 说：我今年%d岁。\" % (name2, age2))\n",
    "\n",
    "\n",
    "obj = myclass(\"IKTP\", 22)\n",
    "# 无论是类方法、静态方法还是普通方法都可以被实例化的对象调用\n",
    "# 但是静态方法和类方法可以不用对象进行调用\n",
    "obj.speak()  # 执行结果：this is def speak.IKTP 说：我今年22岁。\n",
    "var = obj.speak2()  # 执行结果：this is classmethod\n",
    "print(var)  # 执行结果： this is public_var\n",
    "obj.speak3(\"liu\", 23)  # 执行结果：this is staticmethod.liu 说：我今年23岁。\n",
    "\n",
    "# myclass.speak()  # 报错，实例方法不能直接被调用，必须需要实例化的对象调用\n",
    "var2 = myclass.speak2()  # 不需要实例化对象即可拿到该字段\n",
    "print(var2)  # 不需要实例化对象即可拿到该字段\n",
    "myclass.speak3(\"abc\", 12)  # 不需要实例化对象即可执行"
   ]
  },
  {
   "cell_type": "code",
   "execution_count": null,
   "metadata": {},
   "outputs": [],
   "source": []
  }
 ],
 "metadata": {
  "kernelspec": {
   "display_name": "Python 3",
   "language": "python",
   "name": "python3"
  },
  "language_info": {
   "codemirror_mode": {
    "name": "ipython",
    "version": 3
   },
   "file_extension": ".py",
   "mimetype": "text/x-python",
   "name": "python",
   "nbconvert_exporter": "python",
   "pygments_lexer": "ipython3",
   "version": "3.6.5"
  }
 },
 "nbformat": 4,
 "nbformat_minor": 2
}
