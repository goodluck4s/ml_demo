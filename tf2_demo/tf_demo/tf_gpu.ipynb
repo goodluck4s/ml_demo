{
 "cells": [
  {
   "cell_type": "code",
   "execution_count": 9,
   "metadata": {},
   "outputs": [
    {
     "name": "stdout",
     "output_type": "stream",
     "text": [
      "[name: \"/device:CPU:0\"\n",
      "device_type: \"CPU\"\n",
      "memory_limit: 268435456\n",
      "locality {\n",
      "}\n",
      "incarnation: 15069659445004554769\n",
      "]\n"
     ]
    }
   ],
   "source": [
    "# 检测设备\n",
    "\n",
    "from tensorflow.python.client import device_lib\n",
    "print(device_lib.list_local_devices())"
   ]
  },
  {
   "cell_type": "code",
   "execution_count": 10,
   "metadata": {},
   "outputs": [
    {
     "name": "stdout",
     "output_type": "stream",
     "text": [
      "[2. 4. 6.]\n"
     ]
    }
   ],
   "source": [
    "# 指定gpu设备\n",
    "\n",
    "import tensorflow as tf\n",
    "import os\n",
    "os.environ['CUDA_VISIBLE_DEVICES']='1'\n",
    "\n",
    "gpuConfig = tf.ConfigProto(allow_soft_placement=True)\n",
    "gpuConfig.gpu_options.allow_growth = True  \n",
    "\n",
    "a=tf.constant([1.0,2.0,3.0],shape=[3],name='a')\n",
    "b=tf.constant([1.0,2.0,3.0],shape=[3],name='b')\n",
    " \n",
    "c=a+b\n",
    "#log_device_placement=True 输出运行每一个运算的设备\n",
    "with tf.Session(config=gpuConfig) as sess:\n",
    "    print(sess.run(c))"
   ]
  },
  {
   "cell_type": "code",
   "execution_count": null,
   "metadata": {},
   "outputs": [],
   "source": []
  },
  {
   "cell_type": "code",
   "execution_count": null,
   "metadata": {},
   "outputs": [],
   "source": []
  },
  {
   "cell_type": "code",
   "execution_count": 6,
   "metadata": {},
   "outputs": [],
   "source": [
    "# session使用设备的一些配置\n",
    "\n",
    "# import os\n",
    "# os.environ['CUDA_VISIBLE_DEVICES'] = '0, 1'  \n",
    "\n",
    "# gpuConfig = tf.ConfigProto(allow_soft_placement=True)\n",
    "# gpuConfig.gpu_options.allow_growth = True  \n",
    "\n",
    "# with tf.Session(config=gpuConfig) as sess:\n",
    "#      pass"
   ]
  },
  {
   "cell_type": "code",
   "execution_count": null,
   "metadata": {},
   "outputs": [],
   "source": []
  }
 ],
 "metadata": {
  "kernelspec": {
   "display_name": "Python 3",
   "language": "python",
   "name": "python3"
  },
  "language_info": {
   "codemirror_mode": {
    "name": "ipython",
    "version": 3
   },
   "file_extension": ".py",
   "mimetype": "text/x-python",
   "name": "python",
   "nbconvert_exporter": "python",
   "pygments_lexer": "ipython3",
   "version": "3.6.5"
  }
 },
 "nbformat": 4,
 "nbformat_minor": 2
}
